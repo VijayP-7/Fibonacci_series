{
 "cells": [
  {
   "cell_type": "markdown",
   "id": "fb7e6579",
   "metadata": {},
   "source": [
    "##Fiboonaci Series (Assignment no1):-"
   ]
  },
  {
   "cell_type": "code",
   "execution_count": 37,
   "id": "e8d9c908",
   "metadata": {},
   "outputs": [
    {
     "name": "stdout",
     "output_type": "stream",
     "text": [
      "Enter Number You Want:-10\n",
      "0\n",
      "1\n",
      "1\n",
      "2\n",
      "3\n",
      "5\n",
      "8\n",
      "13\n",
      "21\n",
      "34\n"
     ]
    }
   ],
   "source": [
    "\n",
    "X= int(input(\"Enter Number You Want:-\"))\n",
    "no_1, no_2 = 0, 1\n",
    "i_count = 1\n",
    "\n",
    "if X== 1:\n",
    "   print(no_1)\n",
    "else:\n",
    "   while i_count <=X:\n",
    "       print(no_1)\n",
    "       y = no_1 + no_2\n",
    "       no_1 = no_2\n",
    "       no_2 = y\n",
    "       i_count += 1"
   ]
  },
  {
   "cell_type": "code",
   "execution_count": null,
   "id": "40e16df8",
   "metadata": {},
   "outputs": [],
   "source": []
  }
 ],
 "metadata": {
  "kernelspec": {
   "display_name": "Python 3 (ipykernel)",
   "language": "python",
   "name": "python3"
  },
  "language_info": {
   "codemirror_mode": {
    "name": "ipython",
    "version": 3
   },
   "file_extension": ".py",
   "mimetype": "text/x-python",
   "name": "python",
   "nbconvert_exporter": "python",
   "pygments_lexer": "ipython3",
   "version": "3.9.12"
  }
 },
 "nbformat": 4,
 "nbformat_minor": 5
}
